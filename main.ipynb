{
 "cells": [
  {
   "cell_type": "markdown",
   "metadata": {},
   "source": [
    "### LIBRERIAS"
   ]
  },
  {
   "cell_type": "code",
   "execution_count": 1,
   "metadata": {},
   "outputs": [],
   "source": [
    "import scipy.io\n",
    "import numpy as np\n",
    "import matplotlib.pyplot as plt\n",
    "from scipy.fft import fft\n",
    "from scipy.signal import butter, lfilter\n",
    "from scipy import signal\n",
    "import pandas as pd\n",
    "from sklearn.cross_decomposition import CCA\n",
    "from os import listdir\n",
    "from os.path import isfile, join"
   ]
  },
  {
   "cell_type": "markdown",
   "metadata": {},
   "source": [
    "### FUNCIONES"
   ]
  },
  {
   "cell_type": "code",
   "execution_count": 54,
   "metadata": {},
   "outputs": [],
   "source": [
    "def butter_bandpass(lowcut, highcut, fs, order=5):\n",
    "    return butter(order, [lowcut, highcut], fs=fs, btype='band')\n",
    "\n",
    "def bandpass_filter(data, lowcut, highcut, fs, order=5):\n",
    "    b, a = butter_bandpass(lowcut, highcut, fs, order=order)\n",
    "    y = lfilter(b, a, data)\n",
    "    return y\n",
    "\n",
    "def get_data(data, electrodes, freqs):\n",
    "    all_electrodes = []\n",
    "    one_electrode = []\n",
    "    elecs = [int(electrodes_index[elec])-1 for elec in electrodes]\n",
    "    for elec_index in elecs:\n",
    "        for freq_index in np.arange(len(freqs)):\n",
    "            freq_temp = stimulation[str(freqs[freq_index]) + \".0\"]\n",
    "            data_temp = data[elec_index,:,freq_temp,:]\n",
    "            one_electrode.append(data_temp)\n",
    "        all_electrodes.append(one_electrode)\n",
    "        one_electrode = []\n",
    "    return all_electrodes\n",
    "\n",
    "def drop_trash_data(data, avoid_data):\n",
    "    data_without_trash = []\n",
    "    freq_temp = []\n",
    "    data_temp = []\n",
    "    for electrode_index in np.arange(len(data)):\n",
    "        for frequency_index in np.arange(len(data[0])):\n",
    "            temp2 = data[electrode_index][frequency_index]\n",
    "            for block_index in np.arange(temp2.shape[1]):\n",
    "                temp3 = temp2[:,block_index]\n",
    "                temp3 = temp3[avoid_data:temp3.size-avoid_data:]\n",
    "                data_temp.append(temp3)\n",
    "            data_temp = np.array(data_temp).T\n",
    "            freq_temp.append(data_temp)\n",
    "            data_temp = []\n",
    "        data_without_trash.append(freq_temp)\n",
    "        freq_temp = []\n",
    "    return data_without_trash\n",
    "\n",
    "def normalization_data(data):\n",
    "    data_normalized = []\n",
    "    freq_temp = []\n",
    "    data_temp = []\n",
    "    for electrode_index in np.arange(len(data)):\n",
    "        for frequency_index in np.arange(len(data[0])):\n",
    "            temp2 = data[electrode_index][frequency_index]\n",
    "            for block_index in np.arange(temp2.shape[1]):\n",
    "                temp3 = temp2[:,block_index]\n",
    "                temp3 = (temp3-np.min(temp3))/(np.max(temp3)-np.min(temp3))\n",
    "                data_temp.append(temp3)\n",
    "            data_temp = np.array(data_temp).T\n",
    "            freq_temp.append(data_temp)\n",
    "            data_temp = []\n",
    "        data_normalized.append(freq_temp)\n",
    "        freq_temp = []\n",
    "    return data_normalized\n",
    "\n",
    "def get_acc(data, reference_signals, stim_freq):\n",
    "    cca = CCA(n_components=1)\n",
    "    correctas = 0\n",
    "    n_total = len(data)*len(data[0])*data[0][0].shape[1]\n",
    "    for electrode_index in np.arange(len(data)):\n",
    "        for frequency_index in np.arange(len(data[0])):\n",
    "            temp = data[electrode_index][frequency_index]\n",
    "            for block_index in np.arange(temp.shape[1]):\n",
    "                temp2 = temp[:,block_index].reshape(-1,1)\n",
    "                corr = []\n",
    "                for reference_index in np.arange(len(reference_signals)):\n",
    "                    reference_signal_temp = reference_signals[reference_index].reshape(-1,1)\n",
    "                    cca.fit(temp2, reference_signal_temp)\n",
    "                    a,b = cca.transform(temp2, reference_signal_temp)\n",
    "                    x = abs(np.corrcoef(a[:,0], b)[0,1])\n",
    "                    corr.append(x)\n",
    "                corr = np.array(corr)\n",
    "                if stim_freq[frequency_index] == stim_freq[np.argmax(corr)]:\n",
    "                    correctas += 1\n",
    "    return np.round((correctas/n_total)*100,1)\n",
    "                \n",
    "\n",
    "\n",
    "\n",
    "def BP_filter(data, freqs, fs, order=5):\n",
    "    data_filtered = []\n",
    "    freq_temp = []\n",
    "    data_temp = []\n",
    "    for electrode_index in np.arange(len(data)):\n",
    "        for frequency_index in np.arange(len(data[0])):\n",
    "            temp2 = data[electrode_index][frequency_index]\n",
    "            for block_index in np.arange(temp2.shape[1]):\n",
    "                temp3 = temp2[:,block_index]\n",
    "                temp3 = bandpass_filter(temp3,freqs[frequency_index]-2, freqs[frequency_index]+2,fs,order=order)\n",
    "                data_temp.append(temp3)\n",
    "            data_temp = np.array(data_temp).T\n",
    "            freq_temp.append(data_temp)\n",
    "            data_temp = []\n",
    "        data_filtered.append(freq_temp)\n",
    "        freq_temp = []\n",
    "    return data_filtered\n",
    "\n",
    "\n",
    "def plot_one_fft(data, sr):\n",
    "    x = fft(data)\n",
    "    N = len(x)\n",
    "    n = np.arange(N)\n",
    "    sample_rate = sr\n",
    "    T = N/sample_rate\n",
    "    freq = n/T \n",
    "    n_oneside = N//2\n",
    "    f_oneside = freq[:n_oneside]\n",
    "    fig, ax = plt.subplots(figsize=(30,8))\n",
    "    ax.plot(f_oneside, np.abs(x[:n_oneside]))\n",
    "    ax.set_xticks(np.arange(min(f_oneside), max(f_oneside)+1, 2.0))\n",
    "    ax.set_xlim([0,30])\n",
    "    ax.grid()\n"
   ]
  },
  {
   "cell_type": "markdown",
   "metadata": {},
   "source": [
    "### BASE DE DATOS DE SSVEP"
   ]
  },
  {
   "cell_type": "code",
   "execution_count": 3,
   "metadata": {},
   "outputs": [],
   "source": [
    "DB_path = \"../DB/\"\n",
    "DBfiles = [f for f in listdir(DB_path) if isfile(join(DB_path, f))]\n",
    "DBfiles = DBfiles[2:]"
   ]
  },
  {
   "cell_type": "markdown",
   "metadata": {},
   "source": [
    "### ELECTRODOS INDEX"
   ]
  },
  {
   "cell_type": "code",
   "execution_count": 4,
   "metadata": {},
   "outputs": [
    {
     "data": {
      "text/plain": [
       "{'FP1': '1',\n",
       " 'FPZ': '2',\n",
       " 'FP2': '3',\n",
       " 'AF3': '4',\n",
       " 'AF4': '5',\n",
       " 'F7': '6',\n",
       " 'F5': '7',\n",
       " 'F3': '8',\n",
       " 'F1': '9',\n",
       " 'FZ': '10',\n",
       " 'F2': '11',\n",
       " 'F4': '12',\n",
       " 'F6': '13',\n",
       " 'F8': '14',\n",
       " 'FT7': '15',\n",
       " 'FC5': '16',\n",
       " 'FC3': '17',\n",
       " 'FC1': '18',\n",
       " 'FCz': '19',\n",
       " 'FC2': '20',\n",
       " 'FC4': '21',\n",
       " 'FC6': '22',\n",
       " 'FT8': '23',\n",
       " 'T7': '24',\n",
       " 'C5': '25',\n",
       " 'C3': '26',\n",
       " 'C1': '27',\n",
       " 'Cz': '28',\n",
       " 'C2': '29',\n",
       " 'C4': '30',\n",
       " 'C6': '31',\n",
       " 'T8': '32',\n",
       " 'M1': '33',\n",
       " 'TP7': '34',\n",
       " 'CP5': '35',\n",
       " 'CP3': '36',\n",
       " 'CP1': '37',\n",
       " 'CPZ': '38',\n",
       " 'CP2': '39',\n",
       " 'CP4': '40',\n",
       " 'CP6': '41',\n",
       " 'TP8': '42',\n",
       " 'M2': '43',\n",
       " 'P7': '44',\n",
       " 'P5': '45',\n",
       " 'P3': '46',\n",
       " 'P1': '47',\n",
       " 'PZ': '48',\n",
       " 'P2': '49',\n",
       " 'P4': '50',\n",
       " 'P6': '51',\n",
       " 'P8': '52',\n",
       " 'PO7': '53',\n",
       " 'PO5': '54',\n",
       " 'PO3': '55',\n",
       " 'POz': '56',\n",
       " 'PO4': '57',\n",
       " 'PO6': '58',\n",
       " 'PO8': '59',\n",
       " 'CB1': '60',\n",
       " 'O1': '61',\n",
       " 'Oz': '62',\n",
       " 'O2': '63',\n",
       " 'CB2': '64'}"
      ]
     },
     "execution_count": 4,
     "metadata": {},
     "output_type": "execute_result"
    }
   ],
   "source": [
    "#DICCIONARIO DE INDICES DE ELECTRODOS\n",
    "\n",
    "def remove_whitespace(s):\n",
    "    return s.strip()\n",
    "\n",
    "df = pd.read_csv('../DB/electrodo_index.csv', header=None,sep='\\t')\n",
    "df[3] = df[3].astype(str)\n",
    "df[3] = df[3].apply(remove_whitespace)\n",
    "df[3] = df[3].replace('nan','PO5')\n",
    "df[0] = df[0].replace('54      -144', '54')\n",
    "\n",
    "electrode_name = np.array(df[3])\n",
    "electrode_index = np.array(df[0])\n",
    "electrodes_index = dict(zip(electrode_name,electrode_index))\n",
    "electrodes_index"
   ]
  },
  {
   "cell_type": "markdown",
   "metadata": {},
   "source": [
    "### FRECUENCIAS DE ESTIMULO"
   ]
  },
  {
   "cell_type": "code",
   "execution_count": 5,
   "metadata": {},
   "outputs": [
    {
     "data": {
      "text/plain": [
       "{'8.0': 0,\n",
       " '9.0': 1,\n",
       " '10.0': 2,\n",
       " '11.0': 3,\n",
       " '12.0': 4,\n",
       " '13.0': 5,\n",
       " '14.0': 6,\n",
       " '15.0': 7,\n",
       " '8.2': 8,\n",
       " '9.2': 9,\n",
       " '10.2': 10,\n",
       " '11.2': 11,\n",
       " '12.200000000000001': 12,\n",
       " '13.200000000000001': 13,\n",
       " '14.200000000000001': 14,\n",
       " '15.200000000000001': 15,\n",
       " '8.4': 16,\n",
       " '9.4': 17,\n",
       " '10.4': 18,\n",
       " '11.4': 19,\n",
       " '12.4': 20,\n",
       " '13.4': 21,\n",
       " '14.4': 22,\n",
       " '15.4': 23,\n",
       " '8.6': 24,\n",
       " '9.6': 25,\n",
       " '10.6': 26,\n",
       " '11.6': 27,\n",
       " '12.600000000000001': 28,\n",
       " '13.600000000000001': 29,\n",
       " '14.600000000000001': 30,\n",
       " '15.600000000000001': 31,\n",
       " '8.8': 32,\n",
       " '9.8': 33,\n",
       " '10.8': 34,\n",
       " '11.8': 35,\n",
       " '12.8': 36,\n",
       " '13.8': 37,\n",
       " '14.8': 38,\n",
       " '15.8': 39}"
      ]
     },
     "execution_count": 5,
     "metadata": {},
     "output_type": "execute_result"
    }
   ],
   "source": [
    "#DICCIONARIO DE LAS FRECUENCIAS DE ESTIMULACIONES\n",
    "\n",
    "freqs = scipy.io.loadmat('../DB/Freq_Phase.mat')\n",
    "freqs = freqs['freqs'][0,:].astype(str)\n",
    "stimulation = dict(zip(freqs,np.arange(len(freqs))))\n",
    "stimulation\n"
   ]
  },
  {
   "cell_type": "markdown",
   "metadata": {},
   "source": [
    "### DATA(ELECTRODO, DATOS, FRECUENCIA, BLOQUE)"
   ]
  },
  {
   "cell_type": "code",
   "execution_count": 6,
   "metadata": {},
   "outputs": [],
   "source": [
    "people = []\n",
    "\n",
    "for index in np.arange(len(DBfiles)):\n",
    "    temp = scipy.io.loadmat('../DB/'+DBfiles[index])\n",
    "    people.append(np.array(temp['data']))"
   ]
  },
  {
   "cell_type": "code",
   "execution_count": 7,
   "metadata": {},
   "outputs": [],
   "source": [
    "sr = 250\n",
    "avoid_time = 0.5\n",
    "trash_data = int(avoid_time*sr)"
   ]
  },
  {
   "cell_type": "code",
   "execution_count": 102,
   "metadata": {},
   "outputs": [],
   "source": [
    "freqs = [8,10,12,14]\n",
    "P4_OZ = get_data(people[7],['O1','Oz','O2'],freqs)"
   ]
  },
  {
   "cell_type": "markdown",
   "metadata": {},
   "source": [
    "### NORMALIZACION Y ELIMINACION DE DATO BASURA"
   ]
  },
  {
   "cell_type": "code",
   "execution_count": 103,
   "metadata": {},
   "outputs": [],
   "source": [
    "P4_CLEAN = drop_trash_data(P4_OZ,trash_data)\n",
    "\n",
    "P4_CLEAN_NORM = normalization_data(P4_CLEAN)"
   ]
  },
  {
   "cell_type": "markdown",
   "metadata": {},
   "source": [
    "### FILTRADO"
   ]
  },
  {
   "cell_type": "code",
   "execution_count": 104,
   "metadata": {},
   "outputs": [],
   "source": [
    "freqs = [8,10,12,14]\n",
    "P4_CLEAN_F = BP_filter(P4_CLEAN_NORM,freqs,sr,5)"
   ]
  },
  {
   "cell_type": "markdown",
   "metadata": {},
   "source": [
    "### PLOT FRECUENCIA"
   ]
  },
  {
   "cell_type": "code",
   "execution_count": 105,
   "metadata": {},
   "outputs": [
    {
     "data": {
      "image/png": "[encoded data removed]",
      "text/plain": [
       "<Figure size 2160x576 with 1 Axes>"
      ]
     },
     "metadata": {
      "needs_background": "light"
     },
     "output_type": "display_data"
    }
   ],
   "source": [
    "plot_one_fft(P4_CLEAN_F[1][2][:,5],sr)"
   ]
  },
  {
   "cell_type": "markdown",
   "metadata": {},
   "source": [
    "### CREACION DE SEÑALES DE REFERENCIA"
   ]
  },
  {
   "cell_type": "code",
   "execution_count": 106,
   "metadata": {},
   "outputs": [
    {
     "data": {
      "image/png": "[encoded data removed]",
      "text/plain": [
       "<Figure size 2160x576 with 4 Axes>"
      ]
     },
     "metadata": {
      "needs_background": "light"
     },
     "output_type": "display_data"
    }
   ],
   "source": [
    "a1 = 0.1\n",
    "a2 = 0\n",
    "\n",
    "#FRECUENCIA DE LAS SEÑALES\n",
    "target_freqs = [8,10,12,14]\n",
    "\n",
    "reference_signals = []\n",
    "reference_ffts = []\n",
    "\n",
    "max_time = len(P4_CLEAN_F[0][0][:,0])/sr\n",
    "time_steps = np.linspace(0, max_time, len(P4_CLEAN_F[0][0][:,0]))\n",
    "\n",
    "\n",
    "for index in np.arange(len(target_freqs)):\n",
    "    model_signal = a1*np.sin(np.pi*2*time_steps*target_freqs[index]) + a2*np.sin(np.pi*4*time_steps*target_freqs[index])\n",
    "    #model_signal = (model_signal-np.min(model_signal))/(np.max(model_signal)-np.min(model_signal))\n",
    "    reference_signals.append(model_signal)\n",
    "    reference_ffts.append(fft(model_signal))\n",
    "\n",
    "N = len(reference_ffts[0])\n",
    "n = np.arange(N)\n",
    "T = N/sr\n",
    "freq = n/T \n",
    "n_oneside = N//2\n",
    "f_oneside = freq[:n_oneside]\n",
    "\n",
    "fig, ax = plt.subplots(2,2,figsize=(30,8))\n",
    "\n",
    "for i in np.arange(len(target_freqs)):\n",
    "    if i<2:\n",
    "        ax[0,i].plot(f_oneside, np.abs(reference_ffts[i][:n_oneside]))\n",
    "        ax[0,i].set_title(f'Señal de {str(target_freqs[i])} Hz')\n",
    "        ax[0,i].set_xticks(np.arange(min(f_oneside), max(f_oneside)+1, 2.0))\n",
    "        ax[0,i].set_xlim([0,60])\n",
    "        ax[0,i].grid()\n",
    "    else:\n",
    "        ax[1,i-2].plot(f_oneside, np.abs(reference_ffts[i][:n_oneside]))\n",
    "        ax[1,i-2].set_title(f'Señal de {str(target_freqs[i])} Hz')\n",
    "        ax[1,i-2].set_xticks(np.arange(min(f_oneside), max(f_oneside)+1, 2.0))\n",
    "        ax[1,i-2].set_xlim([0,60])\n",
    "        ax[1,i-2].grid()\n",
    "\n",
    "plt.show()"
   ]
  },
  {
   "cell_type": "markdown",
   "metadata": {},
   "source": [
    "### ALGORITMO CCA"
   ]
  },
  {
   "cell_type": "code",
   "execution_count": 107,
   "metadata": {},
   "outputs": [
    {
     "data": {
      "text/plain": [
       "93.1"
      ]
     },
     "execution_count": 107,
     "metadata": {},
     "output_type": "execute_result"
    }
   ],
   "source": [
    "stim_freq = [8,10,12,14]\n",
    "acc = get_acc(P4_CLEAN_F,reference_signals=reference_signals,stim_freq=stim_freq)\n",
    "acc"
   ]
  },
  {
   "cell_type": "code",
   "execution_count": null,
   "metadata": {},
   "outputs": [],
   "source": []
  }
 ],
 "metadata": {
  "interpreter": {
   "hash": "92270f98a29992b36ec84b6e0e21fc1df42cae5fb0efd10c4d634a3b5ac66117"
  },
  "kernelspec": {
   "display_name": "Python 3.6.6 64-bit (system)",
   "language": "python",
   "name": "python3"
  },
  "language_info": {
   "codemirror_mode": {
    "name": "ipython",
    "version": 3
   },
   "file_extension": ".py",
   "mimetype": "text/x-python",
   "name": "python",
   "nbconvert_exporter": "python",
   "pygments_lexer": "ipython3",
   "version": "3.6.6"
  },
  "orig_nbformat": 4
 },
 "nbformat": 4,
 "nbformat_minor": 2
}
